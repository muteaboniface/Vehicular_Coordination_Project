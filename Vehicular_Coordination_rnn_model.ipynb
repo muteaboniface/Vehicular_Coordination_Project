{
 "cells": [
  {
   "cell_type": "markdown",
   "metadata": {},
   "source": [
    "#### Vehicular Coordination for lane change prediction\n",
    "\n",
    "    AIM - Develop a driver assist system to aid in lane change and overtaking decision making.\n",
    "\n",
    "    OBJECTIVE - To minimise the rate of collissions related to overtaking and lane change maneuvres."
   ]
  },
  {
   "cell_type": "markdown",
   "metadata": {},
   "source": [
    "##### Import requisite modules"
   ]
  },
  {
   "cell_type": "code",
   "execution_count": 1,
   "metadata": {},
   "outputs": [],
   "source": [
    "import numpy as np\n",
    "import pickle\n",
    "import random\n",
    "import torch\n",
    "import torch.nn as nn\n",
    "import torch.nn.functional as F\n",
    "import torch.optim as optim\n",
    "import time\n",
    "import os\n",
    "import platform\n",
    "import matplotlib.pyplot as plt\n",
    "\n",
    "%matplotlib inline"
   ]
  },
  {
   "cell_type": "code",
   "execution_count": 2,
   "metadata": {},
   "outputs": [
    {
     "data": {
      "text/plain": [
       "'4.0'"
      ]
     },
     "execution_count": 2,
     "metadata": {},
     "output_type": "execute_result"
    }
   ],
   "source": [
    "pickle.format_version"
   ]
  },
  {
   "cell_type": "markdown",
   "metadata": {},
   "source": [
    "#### Check Library Versions"
   ]
  },
  {
   "cell_type": "code",
   "execution_count": 3,
   "metadata": {},
   "outputs": [
    {
     "name": "stdout",
     "output_type": "stream",
     "text": [
      "Numpy Version: 1.19.5\n",
      "Torch Version: 1.12.0+cpu\n",
      "Python :  3.8.10\n"
     ]
    }
   ],
   "source": [
    "print(f\"Numpy Version: {np.__version__}\")\n",
    "print(f\"Torch Version: {torch.__version__}\")\n",
    "version = platform.python_version()\n",
    "print(\"Python : \",version)"
   ]
  },
  {
   "cell_type": "markdown",
   "metadata": {},
   "source": [
    "##### Set Seed to ensure result reproducibility"
   ]
  },
  {
   "cell_type": "code",
   "execution_count": 4,
   "metadata": {
    "scrolled": true
   },
   "outputs": [
    {
     "data": {
      "text/plain": [
       "<torch._C.Generator at 0x184fdac2d10>"
      ]
     },
     "execution_count": 4,
     "metadata": {},
     "output_type": "execute_result"
    }
   ],
   "source": [
    "SEED = 42\n",
    "def set_seed(SEED):\n",
    "    np.random.seed = SEED\n",
    "    os.environ['PYTHONHASHSEED'] = str(SEED)\n",
    "    \n",
    "\n",
    "set_seed(SEED)\n",
    "# Defines how random numbers are reproduced\n",
    "torch.manual_seed(SEED)"
   ]
  },
  {
   "cell_type": "markdown",
   "metadata": {},
   "source": [
    "#### Load Previously Preprocessed"
   ]
  },
  {
   "cell_type": "code",
   "execution_count": 5,
   "metadata": {
    "scrolled": false
   },
   "outputs": [
    {
     "name": "stdout",
     "output_type": "stream",
     "text": [
      "Loaded 01 data pack\n",
      "Loaded 02 data pack\n",
      "Loaded 03 data pack\n",
      "Loaded 04 data pack\n",
      "Loaded 05 data pack\n",
      "Loaded 06 data pack\n",
      "Loaded 07 data pack\n",
      "Loaded 08 data pack\n",
      "Loaded 09 data pack\n",
      "Loaded 10 data pack\n",
      "Loaded 11 data pack\n",
      "Loaded 12 data pack\n",
      "Loaded 13 data pack\n",
      "Loaded 14 data pack\n",
      "Loaded 15 data pack\n",
      "Loaded 16 data pack\n",
      "Loaded 17 data pack\n",
      "Loaded 18 data pack\n",
      "Loaded 19 data pack\n",
      "Loaded 20 data pack\n",
      "Loaded 21 data pack\n",
      "Loaded 22 data pack\n",
      "Loaded 23 data pack\n",
      "Loaded 24 data pack\n",
      "Loaded 25 data pack\n",
      "Loaded 26 data pack\n",
      "Loaded 27 data pack\n",
      "Loaded 28 data pack\n",
      "Loaded 29 data pack\n",
      "Loaded 30 data pack\n",
      "Loaded 31 data pack\n",
      "Loaded 32 data pack\n",
      "Loaded 33 data pack\n",
      "Loaded 34 data pack\n",
      "Loaded 35 data pack\n",
      "Loaded 36 data pack\n",
      "Loaded 37 data pack\n",
      "Loaded 38 data pack\n",
      "Loaded 39 data pack\n",
      "Loaded 40 data pack\n",
      "Loaded 41 data pack\n",
      "Loaded 42 data pack\n",
      "Loaded 43 data pack\n",
      "Loaded 44 data pack\n",
      "Loaded 45 data pack\n",
      "Loaded 46 data pack\n",
      "Loaded 47 data pack\n",
      "Loaded 48 data pack\n",
      "Loaded 49 data pack\n",
      "Loaded 50 data pack\n",
      "Loaded 51 data pack\n",
      "Loaded 52 data pack\n",
      "Loaded 53 data pack\n",
      "Loaded 54 data pack\n",
      "Loaded 55 data pack\n",
      "Loaded 56 data pack\n",
      "Loaded 57 data pack\n",
      "Loaded 58 data pack\n",
      "Loaded 59 data pack\n",
      "Loaded 60 data pack\n"
     ]
    }
   ],
   "source": [
    "# Load stored pickle objects\n",
    "input_data = []\n",
    "for i in range(1, 61):\n",
    "    idx_str = '{0:02}'.format(i)\n",
    "    pickle_in = open(\"output/result\"+idx_str+\".pickle\", \"rb\") # read binary pickle object\n",
    "    temp_data = pickle.load(pickle_in)\n",
    "    print(\"Loaded \"+idx_str+\" data pack\")\n",
    "    input_data.extend(temp_data)"
   ]
  },
  {
   "cell_type": "markdown",
   "metadata": {},
   "source": [
    "### Sample Data Format and Feature Relevance\n",
    "The data is loaded in the following format as was previously stored\n",
    "<ol>\n",
    "   <li>Left Lane Exists</li>\n",
    "        Indicates whether the left lane exist\n",
    "\n",
    "   <li> Right Lane Exists</li>\n",
    "        Indicates whether the right lane exist\n",
    "    \n",
    "   <li>Difference of the ego car’s Y position and the lane center: ΔY</li>\n",
    "\n",
    "   <li> Ego car’s X velocity: Vx</li>\n",
    "        The longitudinal velocity in the image coordinate system.\n",
    "   <li> Ego car’s Y velocity: Vy</li>\n",
    "        The lateral velocity in the image coordinate system.\n",
    "   <li> Ego car’s X acceleration: Ax</li>\n",
    "        The longitudinal acceleration in the image coordinate system\n",
    "   <li> Ego car’s Y acceleration: Ay</li>\n",
    "        The longitudinal acceleration in the image coordinate system\n",
    "   <li> Ego car type: T</li>\n",
    "        Indicates the car type. 1 for car and -1 for truck\n",
    "    \n",
    "   <li> TTC of preceding car: TTCp</li>\n",
    "        Units are expressed in seconds, a value of 99999 indicates no emminent collision exists.\n",
    "        TTC is basically used as a measure to show the relative closeness of a vehicle to the ego vehicleto warrant a collision\n",
    "    \n",
    "   <li> TTC of following car: TTCf</li>\n",
    "    \n",
    "   <li> TTC of left preceding car: TTClp</li>\n",
    "    \n",
    "   <li> TTC of left alongside car: TTCla</li>\n",
    "    \n",
    "  <li>  TTC of left following car: TTClf</li>\n",
    "    \n",
    "   <li>TTC of right preceding car: TTCrp</li>\n",
    "    \n",
    "   <li> TTC of right alongside car: TTCra</li>\n",
    "    \n",
    "   <li>TTC of right following car: TTCrf</li>\n",
    "</ol>"
   ]
  },
  {
   "cell_type": "code",
   "execution_count": 6,
   "metadata": {
    "scrolled": false
   },
   "outputs": [
    {
     "data": {
      "text/plain": [
       "(0,\n",
       " 1,\n",
       " 0.2699999999999996,\n",
       " 0.39,\n",
       " 0.27,\n",
       " -30.84,\n",
       " 0.07,\n",
       " 1,\n",
       " 99999,\n",
       " 99999,\n",
       " 99999,\n",
       " 99999,\n",
       " 99999,\n",
       " 99999,\n",
       " 99999,\n",
       " 2.010886469673405)"
      ]
     },
     "execution_count": 6,
     "metadata": {},
     "output_type": "execute_result"
    }
   ],
   "source": [
    "# sample dataset format\n",
    "# The following shows a single data sample from a single vehicle dynamics.\n",
    "input_data[1][0][0]\n"
   ]
  },
  {
   "cell_type": "markdown",
   "metadata": {},
   "source": [
    "From the above data sample, it is evident that the left lane doesn't exist. This is the lane on the top.\n",
    "The right lane exists/\n",
    "Its relative positioning from the lanes centre.\n",
    "\n"
   ]
  },
  {
   "cell_type": "markdown",
   "metadata": {},
   "source": [
    "##### Confirm loaded data and split data into training and testing sets."
   ]
  },
  {
   "cell_type": "code",
   "execution_count": 7,
   "metadata": {
    "scrolled": false
   },
   "outputs": [
    {
     "name": "stdout",
     "output_type": "stream",
     "text": [
      "17592 data samples available\n",
      "Training size: 14073\n",
      "Testing size: 3519\n"
     ]
    }
   ],
   "source": [
    "# Examine the number of samples loaded from storage bucket\n",
    "print(f\"{len(input_data)} data samples available\")\n",
    "# Split data into training and sampling set\n",
    "size = len(input_data)\n",
    "training_set = input_data[:int(size*0.8)]\n",
    "testing_set = input_data[int(size*0.8):]\n",
    "\n",
    "print(f\"Training size: {len(training_set)}\")\n",
    "print(f\"Testing size: {len(testing_set)}\")"
   ]
  },
  {
   "cell_type": "markdown",
   "metadata": {},
   "source": [
    "## Model Building,Training and Testing"
   ]
  },
  {
   "attachments": {
    "image.png": {
     "image/png": "[encoded data removed]"
    }
   },
   "cell_type": "markdown",
   "metadata": {},
   "source": [
    "## LSTM\n",
    "Applies a multi-layer long short-term memory (LSTM) RNN to an input sequence.\n",
    "For each element in the input sequence, each layer computes the following function:\n",
    "![image.png](attachment:image.png)\n"
   ]
  },
  {
   "cell_type": "markdown",
   "metadata": {},
   "source": [
    "### Hyparameter tuning and selection"
   ]
  },
  {
   "cell_type": "code",
   "execution_count": 8,
   "metadata": {},
   "outputs": [],
   "source": [
    "# set hyper-parameters\n",
    "state_dim = 16\n",
    "states_per_sequence = 50\n",
    "hidden_dim = 256\n",
    "output_size = 3\n",
    "num_epoch = 10\n",
    "num_lstm_layers = 3"
   ]
  },
  {
   "cell_type": "markdown",
   "metadata": {},
   "source": [
    "### Model Building"
   ]
  },
  {
   "cell_type": "code",
   "execution_count": 9,
   "metadata": {},
   "outputs": [],
   "source": [
    "class PredicterRNN(nn.Module):\n",
    "    def __init__(self, input_dim, hidden_dim, output_size, batch_size, num_layers):\n",
    "        super(PredicterRNN, self).__init__()\n",
    "        # The LSTM takes word embeddings as inputs, and outputs hidden states\n",
    "        # with dimensionality hidden_dim.\n",
    "        \n",
    "        # input_dim – The number of expected features in the input x\n",
    "        # hidden_dim – The number of features in the hidden state h\n",
    "\n",
    "        # num_layers – Number of recurrent layers. E.g., setting num_layers=2 would mean stacking two LSTMs together to form \n",
    "        # a stacked LSTM, with the second LSTM taking in outputs of the first LSTM and computing the final results\n",
    "        \n",
    "        \n",
    "        self.input_dim = input_dim\n",
    "        self.hidden_dim = hidden_dim\n",
    "        self.num_layers = num_layers\n",
    "        self.batch_size = batch_size\n",
    "        \n",
    "        ## During training, randomly zeroes some of the elements of the input tensor with\n",
    "        ## probability p using samples from a Bernoulli distribution. \n",
    "        ## Each channel will be zeroed out independently on every forward call.\n",
    "        \n",
    "        ## effective technique for regularization and preventing the co-adaptation of neurons \n",
    "        self.dropout_layer = nn.Dropout(p=0.2)\n",
    "        \n",
    "        \n",
    "        ## \n",
    "        self.lstm = nn.LSTM(input_dim, hidden_dim, num_layers)\n",
    "\n",
    "        # The linear layer that maps from hidden state space to output space\n",
    "        # Applies a linear transformation to the incoming data\n",
    "        self.dense1 = nn.Linear(hidden_dim, int(hidden_dim/2))\n",
    "        self.dense2 = nn.Linear(int(hidden_dim/2), output_size)\n",
    "\n",
    "    # def init_hidden(self):\n",
    "    #     # This is what we'll initialise our hidden state as\n",
    "    #     return (torch.zeros(self.num_layers, self.batch_size, self.hidden_dim),\n",
    "    #             torch.zeros(self.num_layers, self.batch_size, self.hidden_dim))\n",
    "\n",
    "    \n",
    "    def forward(self, input):\n",
    "        input = input.view(-1, 25, 16)\n",
    "        # print(input.size())\n",
    "        # .view(state_dim, self.batch_size, -1))\n",
    "        lstm_out, _ = self.lstm(input)\n",
    "\n",
    "        output_space = self.dense1(lstm_out.view(self.batch_size, -1))\n",
    "        output_space = torch.tanh(output_space)\n",
    "        #output_space = self.dropout_layer(output_space)\n",
    "        output_space = self.dense2(output_space)\n",
    "        output_space = torch.tanh(output_space)\n",
    "        output_scores = F.log_softmax(output_space, dim=1)\n",
    "        return output_scores\n",
    "\n",
    "\n",
    "    \n",
    "model = PredicterRNN(state_dim, hidden_dim, output_size,\n",
    "                     states_per_sequence, num_lstm_layers)"
   ]
  },
  {
   "cell_type": "markdown",
   "metadata": {},
   "source": [
    "### Loss Functions and Optimisation Functions"
   ]
  },
  {
   "cell_type": "code",
   "execution_count": 10,
   "metadata": {},
   "outputs": [],
   "source": [
    "loss_function = nn.NLLLoss()\n",
    "#loss_function = nn.MSELoss()\n",
    "#optimizer = torch.optim.Adam(model.parameters(), lr = 0.001)\n",
    "optimizer = optim.SGD(model.parameters(), lr=0.1)"
   ]
  },
  {
   "cell_type": "markdown",
   "metadata": {},
   "source": [
    "### Perform Training"
   ]
  },
  {
   "cell_type": "code",
   "execution_count": 11,
   "metadata": {
    "scrolled": false
   },
   "outputs": [
    {
     "name": "stdout",
     "output_type": "stream",
     "text": [
      "Epoch: 1\n",
      "\n",
      "\n",
      "Epoch: 1  Total Loss : 0.7764500186481532\n",
      "\n",
      "Epoch 1  run time: 339.53732681274414\n",
      "\n",
      "Scores after Epoch: 1 Using training_set\n",
      "\n",
      "Epoch 1 False Alarm Rate  0.20805798337241527  Miss rate  0.13280750373054787  Training accuracy: 0.5884317487387195\n",
      "Results using testing_test\n",
      "Epoch 1 False Alarm Rate  0.22477976697925547  Miss rate  0.1329923273657289  Training accuracy: 0.580278488206877\n",
      "Epoch: 2\n",
      "\n",
      "\n",
      "Epoch: 2  Total Loss : 0.7600376051543221\n",
      "\n",
      "Epoch 2  run time: 329.1934244632721\n",
      "\n",
      "Scores after Epoch: 2 Using training_set\n",
      "\n",
      "Epoch 2 False Alarm Rate  0.13010729766219  Miss rate  0.16023591274070917  Training accuracy: 0.6598450934413416\n",
      "Results using testing_test\n",
      "Epoch 2 False Alarm Rate  0.13867576015913613  Miss rate  0.15373685706166523  Training accuracy: 0.658994032395567\n",
      "Epoch: 3\n",
      "\n",
      "\n",
      "Epoch: 3  Total Loss : 0.7606187626155109\n",
      "\n",
      "Epoch 3  run time: 394.4728469848633\n",
      "\n",
      "Scores after Epoch: 3 Using training_set\n",
      "\n",
      "Epoch 3 False Alarm Rate  0.028707453989909756  Miss rate  0.3853478291764372  Training accuracy: 0.5712356995665459\n",
      "Results using testing_test\n",
      "Epoch 3 False Alarm Rate  0.0312588803637397  Miss rate  0.39357772094344984  Training accuracy: 0.5663540778630293\n",
      "Epoch: 4\n",
      "\n",
      "\n",
      "Epoch: 4  Total Loss : 0.7421366935533001\n",
      "\n",
      "Epoch 4  run time: 384.0434100627899\n",
      "\n",
      "Scores after Epoch: 4 Using training_set\n",
      "\n",
      "Epoch 4 False Alarm Rate  0.08249840119377531  Miss rate  0.18467988346479072  Training accuracy: 0.6983585589426562\n",
      "Results using testing_test\n",
      "Epoch 4 False Alarm Rate  0.09121909633418585  Miss rate  0.1824381926683717  Training accuracy: 0.691389599317988\n",
      "Epoch: 5\n",
      "\n",
      "\n",
      "Epoch: 5  Total Loss : 0.729410906273792\n",
      "\n",
      "Epoch 5  run time: 385.720333814621\n",
      "\n",
      "Scores after Epoch: 5 Using training_set\n",
      "\n",
      "Epoch 5 False Alarm Rate  0.08498543309884175  Miss rate  0.18247708377744618  Training accuracy: 0.6955162367654374\n",
      "Results using testing_test\n",
      "Epoch 5 False Alarm Rate  0.0937766410912191  Miss rate  0.1773231031543052  Training accuracy: 0.6930946291560103\n",
      "Epoch: 6\n",
      "\n",
      "\n",
      "Epoch: 6  Total Loss : 0.7182468765507305\n",
      "\n",
      "Epoch 6  run time: 378.9850318431854\n",
      "\n",
      "Scores after Epoch: 6 Using training_set\n",
      "\n",
      "Epoch 6 False Alarm Rate  0.08363533006466282  Miss rate  0.18745114758757905  Training accuracy: 0.6938819015135366\n",
      "Results using testing_test\n",
      "Epoch 6 False Alarm Rate  0.09121909633418585  Miss rate  0.18044899119067917  Training accuracy: 0.6896845694799659\n",
      "Epoch: 7\n",
      "\n",
      "\n",
      "Epoch: 7  Total Loss : 0.7136405802792529\n",
      "\n",
      "Epoch 7  run time: 380.7247905731201\n",
      "\n",
      "Scores after Epoch: 7 Using training_set\n",
      "\n",
      "Epoch 7 False Alarm Rate  0.08590918780643786  Miss rate  0.1775030199673133  Training accuracy: 0.6984296169970866\n",
      "Results using testing_test\n",
      "Epoch 7 False Alarm Rate  0.09263995453253765  Miss rate  0.17220801364023872  Training accuracy: 0.6982097186700768\n",
      "Epoch: 8\n",
      "\n",
      "\n",
      "Epoch: 8  Total Loss : 0.7102987734966336\n",
      "\n",
      "Epoch 8  run time: 390.7588815689087\n",
      "\n",
      "Scores after Epoch: 8 Using training_set\n",
      "\n",
      "Epoch 8 False Alarm Rate  0.09599943153556456  Miss rate  0.17167625950401477  Training accuracy: 0.6934555531869537\n",
      "Results using testing_test\n",
      "Epoch 8 False Alarm Rate  0.10429099175902246  Miss rate  0.16737709576584256  Training accuracy: 0.6885478829212844\n",
      "Epoch: 9\n",
      "\n",
      "\n",
      "Epoch: 9  Total Loss : 0.7068253117179698\n",
      "\n",
      "Epoch 9  run time: 393.4354999065399\n",
      "\n",
      "Scores after Epoch: 9 Using training_set\n",
      "\n",
      "Epoch 9 False Alarm Rate  0.07716904711149009  Miss rate  0.1857457542812478  Training accuracy: 0.7039010871882327\n",
      "Results using testing_test\n",
      "Epoch 9 False Alarm Rate  0.08610400682011936  Miss rate  0.18357487922705315  Training accuracy: 0.6973572037510657\n",
      "Epoch: 10\n",
      "\n",
      "\n",
      "Epoch: 10  Total Loss : 0.7016474501220756\n",
      "\n",
      "Epoch 10  run time: 382.60181427001953\n",
      "\n",
      "Scores after Epoch: 10 Using training_set\n",
      "\n",
      "Epoch 10 False Alarm Rate  0.10864776522418816  Miss rate  0.15718041640019897  Training accuracy: 0.6940240176223975\n",
      "Results using testing_test\n",
      "Epoch 10 False Alarm Rate  0.1213412901392441  Miss rate  0.1517476555839727  Training accuracy: 0.6840011366865587\n"
     ]
    }
   ],
   "source": [
    "# load the data into pytorch\n",
    "def prepare_sequence(state_sequence, tag):\n",
    "    \"PyTorch uses torch.tensor, rather than numpy arrays, so the data is converted in this step\"\n",
    "    s_seq_tensor = torch.tensor(state_sequence, dtype=torch.float)\n",
    "    tag_list = [tag] * len(state_sequence)\n",
    "    labels = torch.tensor(tag_list, dtype=torch.long)\n",
    "    return s_seq_tensor, labels\n",
    "\n",
    "\n",
    "loss_values = []\n",
    "accuracy = []\n",
    "false_alarm_rate = []\n",
    "test_accuracy = []    \n",
    "test_false_alarm_rate = []\n",
    "for epoch in range(1, num_epoch+1):\n",
    "    random.shuffle(training_set)\n",
    "    start = time.time()\n",
    "    total_num = 0\n",
    "    total_loss = 0.0\n",
    "    print(f\"Epoch: {epoch}\")\n",
    "    print()\n",
    "    for state_sequence, tag in training_set:\n",
    "        # Step 1. Remember that Pytorch accumulates gradients.\n",
    "        # We need to clear them out before each instance\n",
    "        optimizer.zero_grad()\n",
    "\n",
    "        # Step 2. Get our inputs ready for the network, that is, turn them into\n",
    "        # Tensors of state sequences.\n",
    "        sentence_in, label = prepare_sequence(state_sequence, tag)\n",
    "\n",
    "        # Step 3. Run our forward pass.\n",
    "        tag_scores = model(sentence_in)\n",
    "        # Step 4. Compute the loss, gradients, and update the parameters by\n",
    "        #  calling optimizer.step()\n",
    "        loss = loss_function(tag_scores, label)\n",
    "        total_loss += loss.item()\n",
    "        total_num += 1\n",
    "\n",
    "        loss.backward()\n",
    "        optimizer.step()\n",
    "   \n",
    "    \n",
    "    # store the loss values\n",
    "    loss_values.append(total_loss/total_num)\n",
    "    end = time.time()\n",
    "    print()\n",
    "    print(f\"Epoch: {epoch}  Total Loss : {total_loss/total_num}\")\n",
    "    print(\"\\nEpoch\", epoch, \" run time:\", end-start)\n",
    "    \n",
    "    print()\n",
    "    print(f\"Scores after Epoch: {epoch} Using training_set\")\n",
    "    print()\n",
    "    \n",
    "    # See what the scores are after an individual epoch training\n",
    "    # The training set is used, this might not be the best way to test due to overfitting\n",
    "    correct, total = 0, 0\n",
    "    miss, false_alarm = 0, 0\n",
    "    \n",
    "    ## Context-manager that disabled gradient calculation.\n",
    "    # Disabling gradient calculation is useful for inference, \n",
    "    # when you are sure that you will not call Tensor.backward(). \n",
    "    \n",
    "    with torch.no_grad():\n",
    "        for state_sequence, tag in training_set:\n",
    "            sentence_in, label = prepare_sequence(state_sequence, tag)\n",
    "            output_scores = model(sentence_in)\n",
    "            _, idx = output_scores[-1].max(0)\n",
    "            #print(f\"Train Truth: {tag}  Train Predictions: {idx}\")\n",
    "            if tag != 0 and idx == 0:\n",
    "                miss += 1\n",
    "            if tag == 0 and idx != 0:\n",
    "                false_alarm += 1\n",
    "            if idx == tag:\n",
    "                correct += 1\n",
    "            total += 1\n",
    "        \n",
    "        # Store the accuracy and false rate after each epochs evaluations\n",
    "        accuracy.append(correct/total)  \n",
    "        false_alarm_rate.append(false_alarm/total)\n",
    "        \n",
    "        print(f\"Epoch {epoch} False Alarm Rate  {false_alarm/total}  Miss rate  {miss/total}  Training accuracy: {correct/total}\")\n",
    "\n",
    "    \n",
    "    \n",
    "    # See what the scores are after testing\n",
    "    correct, total = 0, 0\n",
    "    miss, false_alarm = 0, 0\n",
    "    print(\"Results using testing_test\")\n",
    "\n",
    "    with torch.no_grad():\n",
    "        for state_sequence, tag in testing_set:\n",
    "            sentence_in, label = prepare_sequence(state_sequence, tag)\n",
    "            output_scores = model(sentence_in)\n",
    "            _, idx = output_scores[-1].max(0)\n",
    "            #print(f\"Test Truth: {tag}  Test Predictions: {idx}\")\n",
    "            if tag != 0 and idx == 0:\n",
    "                miss += 1\n",
    "            if tag == 0 and idx != 0:\n",
    "                false_alarm += 1\n",
    "            if idx == tag:\n",
    "                correct += 1\n",
    "            total += 1\n",
    "        \n",
    "        test_accuracy.append(correct/total)\n",
    "        test_false_alarm_rate.append(false_alarm/total)\n",
    "        print(f\"Epoch {epoch} False Alarm Rate  {false_alarm/total}  Miss rate  {miss/total}  Training accuracy: {correct/total}\")\n",
    "\n",
    "\n"
   ]
  },
  {
   "cell_type": "markdown",
   "metadata": {},
   "source": [
    "### Perform Visualisations of results"
   ]
  },
  {
   "cell_type": "code",
   "execution_count": 12,
   "metadata": {
    "scrolled": true
   },
   "outputs": [
    {
     "data": {
      "image/png": "[encoded data removed]",
      "text/plain": [
       "<Figure size 432x288 with 1 Axes>"
      ]
     },
     "metadata": {
      "needs_background": "light"
     },
     "output_type": "display_data"
    },
    {
     "data": {
      "image/png": "[encoded data removed]",
      "text/plain": [
       "<Figure size 432x288 with 1 Axes>"
      ]
     },
     "metadata": {
      "needs_background": "light"
     },
     "output_type": "display_data"
    },
    {
     "data": {
      "image/png": "[encoded data removed]",
      "text/plain": [
       "<Figure size 432x288 with 1 Axes>"
      ]
     },
     "metadata": {
      "needs_background": "light"
     },
     "output_type": "display_data"
    }
   ],
   "source": [
    "# Visualize the results after training and evaluation\n",
    "plt.plot(accuracy,color ='blue')\n",
    "plt.plot(test_accuracy,color ='orange')\n",
    "plt.xlabel('Epochs')\n",
    "plt.title('Accuracy')\n",
    "plt.show()\n",
    "\n",
    "plt.plot(false_alarm_rate,color ='blue')\n",
    "plt.plot(test_false_alarm_rate,color ='orange')\n",
    "plt.xlabel('Epochs')\n",
    "plt.title('False_alarm_rate')\n",
    "plt.show()\n",
    "\n",
    "\n",
    "plt.plot(loss_values)\n",
    "plt.xlabel('Epoch')\n",
    "plt.title('Loss')\n",
    "plt.show()\n"
   ]
  },
  {
   "cell_type": "markdown",
   "metadata": {},
   "source": [
    "#### Discussion of results\n",
    "It is  clear that the loss drops through every successive epoch training. It is possible that the training accuracy is bound\n",
    "to increase with successive training, atleast until overfitting starts to occur.\n",
    "\n",
    "It is critical that the model retains a minimal false alarm rate than a higher accuracy since for this use case, it is disastrous to have wrong predictions."
   ]
  },
  {
   "cell_type": "markdown",
   "metadata": {},
   "source": [
    "## Save model"
   ]
  },
  {
   "cell_type": "code",
   "execution_count": 13,
   "metadata": {},
   "outputs": [
    {
     "data": {
      "text/plain": [
       "['LSTMmodelLast.pkl']"
      ]
     },
     "execution_count": 13,
     "metadata": {},
     "output_type": "execute_result"
    }
   ],
   "source": [
    "## Save the model for later use\n",
    "import joblib\n",
    "joblib.dump(model, 'LSTMmodelLast.pkl')\n"
   ]
  },
  {
   "cell_type": "code",
   "execution_count": 14,
   "metadata": {},
   "outputs": [
    {
     "data": {
      "text/plain": [
       "'1.0.1'"
      ]
     },
     "execution_count": 14,
     "metadata": {},
     "output_type": "execute_result"
    }
   ],
   "source": [
    "joblib.__version__"
   ]
  },
  {
   "cell_type": "markdown",
   "metadata": {},
   "source": [
    "#### Load saved model and predict on sample test_set"
   ]
  },
  {
   "cell_type": "code",
   "execution_count": 15,
   "metadata": {},
   "outputs": [
    {
     "name": "stdout",
     "output_type": "stream",
     "text": [
      "False Alarm Rate  0.10201761864165956  Miss rate  0.15828360329639102  Testing accuracy: 0.7024722932651322\n"
     ]
    }
   ],
   "source": [
    "\n",
    "import joblib\n",
    "lstm_saved = joblib.load('LSTMmodel.pkl')\n",
    "\n",
    "## Perform predictions\n",
    "correct, total = 0, 0\n",
    "miss, false_alarm = 0, 0\n",
    "\n",
    "with torch.no_grad():\n",
    "        for state_sequence, tag in testing_set:\n",
    "            sentence_in, label = prepare_sequence(state_sequence, tag)\n",
    "            output_scores = lstm_saved(sentence_in)\n",
    "            _, idx = output_scores[-1].max(0)\n",
    "            \n",
    "            if tag != 0 and idx == 0:\n",
    "                miss += 1\n",
    "            if tag == 0 and idx != 0:\n",
    "                false_alarm += 1\n",
    "            if idx == tag:\n",
    "                correct += 1\n",
    "            total += 1\n",
    "        \n",
    "            #test_accuracy.append(correct/total)\n",
    "            #test_false_alarm_rate.append(false_alarm/total)\n",
    "            \n",
    "        print(f\"False Alarm Rate  {false_alarm/total}  Miss rate  {miss/total}  Testing accuracy: {correct/total}\")\n"
   ]
  },
  {
   "cell_type": "markdown",
   "metadata": {},
   "source": [
    "It is evident that with the small false alarm rate, the model better generalises to the data. The results are not bad but could be improved by better hyperparameter tuning which could be expensive(resource intensive)"
   ]
  },
  {
   "cell_type": "markdown",
   "metadata": {},
   "source": [
    "### Prepare test data for inference\n"
   ]
  },
  {
   "cell_type": "code",
   "execution_count": 19,
   "metadata": {},
   "outputs": [
    {
     "name": "stdout",
     "output_type": "stream",
     "text": [
      "Number of samples in test set: 3519\n",
      "Stored Vehicle 1 data\n",
      "Stored Vehicle 2 data\n",
      "Stored Vehicle 3 data\n",
      "Stored Vehicle 4 data\n",
      "Stored Vehicle 5 data\n",
      "Stored Vehicle 6 data\n",
      "Stored Vehicle 7 data\n",
      "Stored Vehicle 8 data\n",
      "Stored Vehicle 9 data\n",
      "Stored Vehicle 10 data\n",
      "Stored Vehicle 11 data\n",
      "Stored Vehicle 12 data\n",
      "Stored Vehicle 13 data\n",
      "Stored Vehicle 14 data\n",
      "Stored Vehicle 15 data\n"
     ]
    }
   ],
   "source": [
    "# Tensor objects are the efficient methods of data storage and efficient in neural network\n",
    "# Operations.\n",
    "\n",
    "def prepare_sequence(state_sequence, tag):\n",
    "    \"This method prepare our data in a format suitable for model consumption\"\n",
    "    \n",
    "    \"PyTorch uses torch.tensor, rather than numpy arrays, so the data is converted in this step\"\n",
    "    \n",
    "    s_seq_tensor = torch.tensor(state_sequence, dtype=torch.float)\n",
    "    tag_list = [tag] * len(state_sequence)\n",
    "    labels = torch.tensor(tag_list, dtype=torch.long)\n",
    "    return s_seq_tensor, labels\n",
    "\n",
    "\n",
    "print(f'Number of samples in test set: {len(testing_set)}')\n",
    " \n",
    "# Shuffle data to ensure variability\n",
    "random.shuffle(testing_set)\n",
    "infer = 1\n",
    "\n",
    "# store tags to later use for evaluation\n",
    "labels = {}\n",
    "for state_sequence, tag in testing_set:\n",
    "    if infer < 16:\n",
    "        print(f'Stored Vehicle {infer} data')\n",
    "        sentence_in, label = prepare_sequence(state_sequence, tag)\n",
    "        pickle.dump(sentence_in,open(f'./inference_data/vehicle{infer}.pkl','wb'))\n",
    "        labels[f'{infer}'] = tag\n",
    "    infer += 1\n",
    "    if infer > 15:\n",
    "        break"
   ]
  },
  {
   "cell_type": "markdown",
   "metadata": {},
   "source": [
    "### Test Data is to be used for inference in our selected vehicles."
   ]
  },
  {
   "cell_type": "code",
   "execution_count": null,
   "metadata": {},
   "outputs": [],
   "source": [
    "# Deserialize object\n",
    "# vehicle = pickle.load(open(f'{vehicleA}','rb'))"
   ]
  },
  {
   "cell_type": "code",
   "execution_count": null,
   "metadata": {},
   "outputs": [],
   "source": [
    "# Local deployment on Azure successfull\n",
    "# Local Deployment and server testing on local machine successful."
   ]
  },
  {
   "cell_type": "markdown",
   "metadata": {},
   "source": [
    "### Conclusion\n",
    "It is critical that applications geared in providing decision inference should be highly geared in evaluation of\n",
    "false rate rather than accuracy.\n",
    "A model with a higher accuracy rate but constantly gives wrong predictions is deadly especially in Road Lane change advisement.\n",
    "It is better to have a model that has a higher miss rate but provides correct inference when sort after."
   ]
  },
  {
   "cell_type": "markdown",
   "metadata": {},
   "source": [
    "### Deploy an Inference Model on Azure to query Vehicle Status."
   ]
  },
  {
   "cell_type": "code",
   "execution_count": 25,
   "metadata": {},
   "outputs": [
    {
     "name": "stdout",
     "output_type": "stream",
     "text": [
      "\"{\\\"prediction\\\": 0}\"\n"
     ]
    },
    {
     "name": "stderr",
     "output_type": "stream",
     "text": [
      "  % Total    % Received % Xferd  Average Speed   Time    Time     Time  Current\n",
      "                                 Dload  Upload   Total   Spent    Left  Speed\n",
      "\n",
      "  0     0    0     0    0     0      0      0 --:--:-- --:--:-- --:--:--     0\n",
      "100    21  100    21    0     0   1185      0 --:--:-- --:--:-- --:--:--  1400\n"
     ]
    }
   ],
   "source": [
    "!curl -p 127.0.0.1:5001/score"
   ]
  },
  {
   "cell_type": "code",
   "execution_count": 26,
   "metadata": {},
   "outputs": [
    {
     "name": "stdout",
     "output_type": "stream",
     "text": [
      "\"{\\\"prediction\\\": 0}\"\n"
     ]
    },
    {
     "name": "stderr",
     "output_type": "stream",
     "text": [
      "  % Total    % Received % Xferd  Average Speed   Time    Time     Time  Current\n",
      "                                 Dload  Upload   Total   Spent    Left  Speed\n",
      "\n",
      "  0     0    0     0    0     0      0      0 --:--:-- --:--:-- --:--:--     0\n",
      "100    21  100    21    0     0   1102      0 --:--:-- --:--:-- --:--:--  1166\n"
     ]
    }
   ],
   "source": [
    "!curl -p 127.0.0.1:5001/score"
   ]
  },
  {
   "cell_type": "markdown",
   "metadata": {},
   "source": [
    "#### Deploy model on Azure\n",
    "The Purpose of this is to infer vehicle lane change status from a central place."
   ]
  },
  {
   "cell_type": "code",
   "execution_count": 1,
   "metadata": {},
   "outputs": [
    {
     "name": "stdout",
     "output_type": "stream",
     "text": [
      "\"{\\\"prediction\\\": 0}\"\n"
     ]
    },
    {
     "name": "stderr",
     "output_type": "stream",
     "text": [
      "  % Total    % Received % Xferd  Average Speed   Time    Time     Time  Current\n",
      "                                 Dload  Upload   Total   Spent    Left  Speed\n",
      "\n",
      "  0     0    0     0    0     0      0      0 --:--:-- --:--:-- --:--:--     0\n",
      "100    21  100    21    0     0   1327      0 --:--:-- --:--:-- --:--:--  1500\n"
     ]
    }
   ],
   "source": [
    "!curl -p 127.0.0.1:5001/score"
   ]
  },
  {
   "cell_type": "code",
   "execution_count": 2,
   "metadata": {},
   "outputs": [
    {
     "name": "stdout",
     "output_type": "stream",
     "text": [
      "\"{\\\"prediction\\\": 2}\""
     ]
    },
    {
     "name": "stderr",
     "output_type": "stream",
     "text": [
      "  % Total    % Received % Xferd  Average Speed   Time    Time     Time  Current\n",
      "                                 Dload  Upload   Total   Spent    Left  Speed\n",
      "\n",
      "  0     0    0     0    0     0      0      0 --:--:-- --:--:-- --:--:--     0\n",
      "100    21  100    21    0     0    569      0 --:--:-- --:--:-- --:--:--   600\n"
     ]
    },
    {
     "name": "stdout",
     "output_type": "stream",
     "text": [
      "\n"
     ]
    }
   ],
   "source": [
    "!curl -p 127.0.0.1:5001/score"
   ]
  },
  {
   "cell_type": "code",
   "execution_count": null,
   "metadata": {},
   "outputs": [],
   "source": []
  }
 ],
 "metadata": {
  "kernelspec": {
   "display_name": "'python3_64'",
   "language": "python",
   "name": "64distro"
  },
  "language_info": {
   "codemirror_mode": {
    "name": "ipython",
    "version": 3
   },
   "file_extension": ".py",
   "mimetype": "text/x-python",
   "name": "python",
   "nbconvert_exporter": "python",
   "pygments_lexer": "ipython3",
   "version": "3.8.10"
  }
 },
 "nbformat": 4,
 "nbformat_minor": 4
}
