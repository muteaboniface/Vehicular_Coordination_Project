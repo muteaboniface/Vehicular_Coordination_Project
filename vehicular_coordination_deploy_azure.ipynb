{
 "cells": [
  {
   "cell_type": "code",
   "execution_count": 1,
   "metadata": {
    "gather": {
     "logged": 1657971536014
    }
   },
   "outputs": [],
   "source": [
    "from azureml.core import Workspace\n",
    "from azureml.core.webservice import AciWebservice\n",
    "from azureml.core.webservice import Webservice\n",
    "from azureml.core.model import InferenceConfig\n",
    "from azureml.core.environment import Environment\n",
    "from azureml.core import Workspace\n",
    "from azureml.core.model import Model\n",
    "from azureml.core.conda_dependencies import CondaDependencies"
   ]
  },
  {
   "cell_type": "code",
   "execution_count": 2,
   "metadata": {},
   "outputs": [],
   "source": [
    "## Dont Run below code again use saved configs"
   ]
  },
  {
   "cell_type": "code",
   "execution_count": 3,
   "metadata": {
    "gather": {
     "logged": 1657971656034
    },
    "jupyter": {
     "outputs_hidden": false,
     "source_hidden": false
    },
    "nteract": {
     "transient": {
      "deleting": false
     }
    }
   },
   "outputs": [],
   "source": [
    "# ws = Workspace.create(\n",
    "#                name='vehicular_coordination_deploy',            \n",
    "#                subscription_id='c2f4dcb6-5111-4040-8a40-0c1777891f98',           \n",
    "#                resource_group='vehicular_coordination5',                 \n",
    "#                create_resource_group=True,                 \n",
    "#                location='eastus'                \n",
    "#                )"
   ]
  },
  {
   "cell_type": "code",
   "execution_count": 4,
   "metadata": {
    "gather": {
     "logged": 1657971656392
    },
    "jupyter": {
     "outputs_hidden": false,
     "source_hidden": false
    },
    "nteract": {
     "transient": {
      "deleting": false
     }
    }
   },
   "outputs": [],
   "source": [
    "# ws.write_config()"
   ]
  },
  {
   "cell_type": "code",
   "execution_count": 5,
   "metadata": {
    "gather": {
     "logged": 1657971656764
    },
    "jupyter": {
     "outputs_hidden": false,
     "source_hidden": false
    },
    "nteract": {
     "transient": {
      "deleting": false
     }
    }
   },
   "outputs": [],
   "source": [
    "ws = Workspace.from_config()"
   ]
  },
  {
   "cell_type": "code",
   "execution_count": 6,
   "metadata": {
    "gather": {
     "logged": 1657971659016
    },
    "jupyter": {
     "outputs_hidden": false,
     "source_hidden": false
    },
    "nteract": {
     "transient": {
      "deleting": false
     }
    }
   },
   "outputs": [
    {
     "name": "stdout",
     "output_type": "stream",
     "text": [
      "Registering model lstmPicklemodel\n"
     ]
    }
   ],
   "source": [
    "model = Model.register(workspace = ws,\n",
    "              model_path =\"lstmpicklemodel.pkl\",\n",
    "              model_name = \"lstmPicklemodel\",\n",
    "              tags = {\"version\": \"5\"},\n",
    "              description = \"highd dataset lane Change Predictor\",\n",
    "              )\n",
    "# path to model"
   ]
  },
  {
   "cell_type": "code",
   "execution_count": 11,
   "metadata": {
    "gather": {
     "logged": 1657971660036
    },
    "jupyter": {
     "outputs_hidden": false,
     "source_hidden": false
    },
    "nteract": {
     "transient": {
      "deleting": false
     }
    }
   },
   "outputs": [
    {
     "name": "stdout",
     "output_type": "stream",
     "text": [
      "Registered Environment\n"
     ]
    }
   ],
   "source": [
    "#to install required packages\n",
    "# to install required packages\n",
    "env = Environment('env')\n",
    "cd = CondaDependencies.create(pip_packages=['pynacl==1.2.1','numpy==1.19.5', 'azureml-defaults','torch==1.12.0','dill==0.3.5.1'],conda_packages=['pip==22.1.2'])\n",
    "env.python.conda_dependencies = cd # Register environment to re-use later\n",
    "env.register(workspace = ws)\n",
    "print(\"Registered Environment\")"
   ]
  },
  {
   "cell_type": "code",
   "execution_count": 12,
   "metadata": {
    "gather": {
     "logged": 1657971670276
    },
    "jupyter": {
     "outputs_hidden": false,
     "source_hidden": false
    },
    "nteract": {
     "transient": {
      "deleting": false
     }
    }
   },
   "outputs": [],
   "source": [
    "myenv = Environment.get(workspace=ws, name=\"env\")"
   ]
  },
  {
   "cell_type": "code",
   "execution_count": 13,
   "metadata": {
    "gather": {
     "logged": 1657971671989
    },
    "jupyter": {
     "outputs_hidden": false,
     "source_hidden": false
    },
    "nteract": {
     "transient": {
      "deleting": false
     }
    }
   },
   "outputs": [],
   "source": [
    "myenv.save_to_directory('./environ', overwrite=True)"
   ]
  },
  {
   "cell_type": "markdown",
   "metadata": {
    "nteract": {
     "transient": {
      "deleting": false
     }
    }
   },
   "source": [
    "Create a container instance and set the number of cpu_cores and memory_gb based on your requirements."
   ]
  },
  {
   "cell_type": "code",
   "execution_count": 14,
   "metadata": {
    "gather": {
     "logged": 1657971683394
    },
    "jupyter": {
     "outputs_hidden": false,
     "source_hidden": false
    },
    "nteract": {
     "transient": {
      "deleting": false
     }
    }
   },
   "outputs": [],
   "source": [
    "aciconfig = AciWebservice.deploy_configuration(\n",
    "            cpu_cores=1,\n",
    "            memory_gb=1,\n",
    "            tags={\"data\":\"HIGHD\"},\n",
    "            description='lane change prediction lstm model',\n",
    "            )"
   ]
  },
  {
   "cell_type": "markdown",
   "metadata": {
    "nteract": {
     "transient": {
      "deleting": false
     }
    }
   },
   "source": [
    "Create and InferenceConfig instance to link your environment and entry script"
   ]
  },
  {
   "cell_type": "markdown",
   "metadata": {},
   "source": [
    "### Local Deployment"
   ]
  },
  {
   "cell_type": "code",
   "execution_count": 15,
   "metadata": {},
   "outputs": [],
   "source": [
    "# from azureml.core.webservice import LocalWebservice\n",
    "# from azureml.core.model import InferenceConfig\n",
    "# from azureml.core.environment import Environment\n",
    "# from azureml.core import Workspace\n",
    "# from azureml.core.model import Model\n",
    "\n",
    "# ws = Workspace.from_config()\n",
    "# model = Model(ws, 'lstmPicklemodel')\n",
    "\n",
    "\n",
    "# inference_config = InferenceConfig(entry_script=\"score.py\", environment=myenv)\n",
    "\n",
    "# deployment_config = LocalWebservice.deploy_configuration(port=6789)\n",
    "\n",
    "# local_service = Model.deploy(workspace=ws, \n",
    "#                        name='lstm-highd-local', \n",
    "#                        models=[model], \n",
    "#                        inference_config=inference_config, \n",
    "#                        deployment_config = deployment_config)\n",
    "\n",
    "# local_service.wait_for_deployment(show_output=True)\n",
    "# print(f\"Scoring URI is : {local_service.scoring_uri}\")"
   ]
  },
  {
   "cell_type": "code",
   "execution_count": 16,
   "metadata": {
    "gather": {
     "logged": 1657971713450
    },
    "jupyter": {
     "outputs_hidden": false,
     "source_hidden": false
    },
    "nteract": {
     "transient": {
      "deleting": false
     }
    }
   },
   "outputs": [],
   "source": [
    "inference_config = InferenceConfig(entry_script=\"score.py\", environment=myenv)"
   ]
  },
  {
   "cell_type": "markdown",
   "metadata": {
    "nteract": {
     "transient": {
      "deleting": false
     }
    }
   },
   "source": [
    "## Deploy Model Online\n"
   ]
  },
  {
   "cell_type": "markdown",
   "metadata": {
    "nteract": {
     "transient": {
      "deleting": false
     }
    }
   },
   "source": [
    "Deploy the model by combining our config objects, workspace and model together. Deployment usually takes a few minutes.\n",
    "\n",
    "If your deployment is successful, the rest endpoint will be printed out. If it is unsuccessful, you can access the deployment logs"
   ]
  },
  {
   "cell_type": "code",
   "execution_count": null,
   "metadata": {
    "jupyter": {
     "outputs_hidden": false,
     "source_hidden": false
    },
    "nteract": {
     "transient": {
      "deleting": false
     }
    }
   },
   "outputs": [],
   "source": [
    "%%time\n",
    "service = Model.deploy(workspace=ws,\n",
    "                name='lstm-highd-model',\n",
    "                models=[model],\n",
    "                inference_config=inference_config,\n",
    "                deployment_config=aciconfig, \n",
    "                overwrite = True)\n",
    "\n",
    "\n",
    "service.wait_for_deployment(show_output=True)\n",
    "url = service.scoring_uri\n",
    "print(url)"
   ]
  },
  {
   "cell_type": "code",
   "execution_count": null,
   "metadata": {
    "jupyter": {
     "outputs_hidden": false,
     "source_hidden": false
    },
    "nteract": {
     "transient": {
      "deleting": false
     }
    },
    "scrolled": false
   },
   "outputs": [],
   "source": [
    "print(service.get_logs())"
   ]
  },
  {
   "cell_type": "markdown",
   "metadata": {},
   "source": [
    "## Consume Local Service"
   ]
  },
  {
   "cell_type": "code",
   "execution_count": null,
   "metadata": {},
   "outputs": [],
   "source": [
    "## Consume the service\n",
    "import json\n",
    "\n",
    "test_sample = json.dumps({'data': [\n",
    "    [1, 2, 3, 4, 5, 6, 7, 8, 9, 10],\n",
    "    [10, 9, 8, 7, 6, 5, 4, 3, 2, 1]\n",
    "]})\n",
    "\n",
    "test_sample = bytes(test_sample, encoding='utf8')\n",
    "prediction = service.run(input_data=test_sample)\n",
    "print(prediction)"
   ]
  },
  {
   "cell_type": "code",
   "execution_count": null,
   "metadata": {},
   "outputs": [],
   "source": [
    "!curl -p 127.0.0.1:5001/score"
   ]
  }
 ],
 "metadata": {
  "kernel_info": {
   "name": "python38-azureml"
  },
  "kernelspec": {
   "display_name": "'python3_64'",
   "language": "python",
   "name": "64distro"
  },
  "language_info": {
   "codemirror_mode": {
    "name": "ipython",
    "version": 3
   },
   "file_extension": ".py",
   "mimetype": "text/x-python",
   "name": "python",
   "nbconvert_exporter": "python",
   "pygments_lexer": "ipython3",
   "version": "3.8.10"
  },
  "microsoft": {
   "host": {
    "AzureML": {
     "notebookHasBeenCompleted": true
    }
   }
  },
  "nteract": {
   "version": "nteract-front-end@1.0.0"
  }
 },
 "nbformat": 4,
 "nbformat_minor": 2
}
